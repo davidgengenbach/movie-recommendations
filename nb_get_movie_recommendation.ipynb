{
 "cells": [
  {
   "cell_type": "code",
   "execution_count": null,
   "metadata": {},
   "outputs": [],
   "source": [
    "from mechanicalsoup import Browser\n",
    "import numpy as np\n",
    "import pandas as pd\n",
    "import re\n",
    "\n",
    "def sanitize_movie_title(t):\n",
    "    return t.replace(' ', '+')\n",
    "\n",
    "def get_movie_recommendation(movie, url_tmpl='http://www.movie-map.com/{}.html'):\n",
    "    movie_sanitized = sanitize_movie_title(movie)\n",
    "    url = url_tmpl.format(movie_sanitized)\n",
    "    b = Browser()\n",
    "    page = b.get(URL)\n",
    "    recommendations = page.soup.select('#gnodMap a')\n",
    "    assert len(recommendations)\n",
    "    df = pd.DataFrame(s, columns=['link'])\n",
    "    df['s'] = df.link.apply(lambda x: x.attrs['id'].replace('s', ''))\n",
    "    df['name'] = df.link.apply(lambda x: x.text)\n",
    "    \n",
    "    for name, link_tmpl in [\n",
    "        ('youtube', 'https://www.youtube.com/results?search_query={}+trailer'),\n",
    "        ('tastedive', 'https://tastedive.com/like/{}'),\n",
    "        ('imdb', 'http://www.imdb.com/find?ref_=nv_sr_fn&q={}&s=all')\n",
    "    ]:\n",
    "        df[name] = df.name.apply(lambda x: link_tmpl.format(sanitize_movie_title(x)))\n",
    "    df = df.sort_values('s').set_index('name')\n",
    "    similarities = get_similarities(page.content)\n",
    "    assert len(df) == similarities.shape[0] == similarities.shape[1]\n",
    "    relevant_similarities = similarities[:,0]\n",
    "    df['similarity'] = relevant_similarities\n",
    "    df = df.sort_values('similarity')\n",
    "    return df\n",
    "\n",
    "def get_similarities(page):\n",
    "    similarities_raw = re.findall(r'Aid\\[\\d+\\]=new Array\\((.+?)\\)', str(page))\n",
    "    num_similarities = len(similarities_raw)\n",
    "    mat = np.zeros((num_similarities, num_similarities), dtype=np.float)\n",
    "    for idx, similarity_arr in enumerate(similarities_raw):\n",
    "        assert similarity_arr.count(',') == num_similarities - 1\n",
    "        s = [float(x) for x in similarity_arr.split(',')]\n",
    "        mat[idx,:] = s\n",
    "    return mat"
   ]
  },
  {
   "cell_type": "code",
   "execution_count": null,
   "metadata": {},
   "outputs": [],
   "source": [
    "MOVIE = 'in the loop'\n",
    "df = get_movie_recommendation(MOVIE)\n",
    "\n",
    "for name, df_ in df.iterrows():\n",
    "    print('{name:40} ({df.similarity:5.2f})\\n\\t{df.youtube:<90}\\n\\t{df.tastedive:<}\\n\\t{df.imdb}\\n\\n'.format(df=df_, name=name))"
   ]
  }
 ],
 "metadata": {
  "language_info": {
   "name": "python",
   "pygments_lexer": "ipython3"
  }
 },
 "nbformat": 4,
 "nbformat_minor": 2
}
